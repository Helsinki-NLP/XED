{
  "nbformat": 4,
  "nbformat_minor": 0,
  "metadata": {
    "colab": {
      "name": "BERT_COLING_NER.ipynb",
      "provenance": [],
      "collapsed_sections": []
    },
    "kernelspec": {
      "name": "python3",
      "display_name": "Python 3"
    },
    "accelerator": "GPU"
  },
  "cells": [
    {
      "cell_type": "code",
      "metadata": {
        "id": "558GInfR5b4X",
        "colab_type": "code",
        "colab": {
          "resources": {
            "http://localhost:8080/nbextensions/google.colab/files.js": {
              "data": "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",
              "ok": true,
              "headers": [
                [
                  "content-type",
                  "application/javascript"
                ]
              ],
              "status": 200,
              "status_text": ""
            }
          },
          "base_uri": "https://localhost:8080/",
          "height": 143
        },
        "outputId": "3095e1f3-4fdc-4820-be06-39b9823bcf5c"
      },
      "source": [
        "\n",
        "LOAD_FROM_LOCAL = True\n",
        "\n",
        "BASE_URL   = 'https://lthelsinkioffens.slack.com/files/UTPM2EMJS/F016E18GDA5/'\n",
        "TRAIN_PATH = 'NERadx.train'\n",
        "DEV_PATH   = 'NERadx.dev'\n",
        "TEST_PATH  = 'NERadx.test'\n",
        "\n",
        "if LOAD_FROM_LOCAL:\n",
        "  from google.colab import files\n",
        "  uploaded = files.upload()"
      ],
      "execution_count": 56,
      "outputs": [
        {
          "output_type": "display_data",
          "data": {
            "text/html": [
              "\n",
              "     <input type=\"file\" id=\"files-e9a3b234-d41a-4b48-a4a4-b3e7d44c03e8\" name=\"files[]\" multiple disabled\n",
              "        style=\"border:none\" />\n",
              "     <output id=\"result-e9a3b234-d41a-4b48-a4a4-b3e7d44c03e8\">\n",
              "      Upload widget is only available when the cell has been executed in the\n",
              "      current browser session. Please rerun this cell to enable.\n",
              "      </output>\n",
              "      <script src=\"/nbextensions/google.colab/files.js\"></script> "
            ],
            "text/plain": [
              "<IPython.core.display.HTML object>"
            ]
          },
          "metadata": {
            "tags": []
          }
        },
        {
          "output_type": "stream",
          "text": [
            "Saving NERadx.dev to NERadx.dev\n",
            "Saving NERadx.test to NERadx.test\n",
            "Saving NERadx.train to NERadx.train\n"
          ],
          "name": "stdout"
        }
      ]
    },
    {
      "cell_type": "code",
      "metadata": {
        "id": "JmtdQgHB5i5-",
        "colab_type": "code",
        "colab": {}
      },
      "source": [
        "#@title Hyperparameters\n",
        "\n",
        "SEED = 12345 #@param {type:\"raw\"}\n",
        "\n",
        "BERT_MODEL = 'english_base_uncased' #@param [\"multilingual\", \"english_base_cased\", \"english_large_cased\", \"english_base_uncased\", \"english_large_uncased\", \"finnish_cased\", \"finnish_uncased\", \"dutch\", \"chinese\", \"german\", \"arabic\", \"greek\", \"turkish\"]\n",
        "#DO_PREPROCESSING = False #@param {type:\"boolean\"}\n",
        "#DO_BALANCING = False #@param {type:\"boolean\"}\n",
        "\n",
        "EPOCHS = 3 #@param [\"2\", \"3\", \"4\"] {type:\"raw\"}\n",
        "MAX_LEN =  48  #@param [\"32\", \"48\", \"64\", \"128\", \"256\", \"512\"] {type:\"raw\"}\n",
        "BATCH_SIZE = 96 #@param [\"128\", \"96\", \"64\", \"32\", \"16\", \"8\"] {type:\"raw\"}\n",
        "LEARN_RATE = 2e-5 #@param [\"3e-4\", \"1e-4\", \"5e-5\", \"3e-5\", \"2e-5\"] {type:\"raw\"}\n",
        "EPSILON = 1e-8 #@param [\"1e-6\", \"1e-7\", \"1e-8\"] {type:\"raw\"}\n",
        "nb_warmup_steps = 0 #@param {type:\"raw\"}\n",
        "\n",
        "#@markdown ---\n",
        "CROSS_VALIDATION = True #@param {type:\"boolean\"}\n",
        "NUM_FOLDS  = 5 #@param [\"3\", \"5\", \"10\"] {type:\"raw\"}\n",
        "\n",
        "CHANGE_SPLIT = True #@param {type:\"boolean\"}\n",
        "PCTG_TRAIN = 0.75 #@param {type:\"slider\", min:0, max:1, step:0.05}\n",
        "PCTG_DEV   = 0.15 #@param {type:\"slider\", min:0, max:1, step:0.05}\n",
        "PCTG_TEST  = 0.1 #@param {type:\"slider\", min:0, max:1, step:0.05}"
      ],
      "execution_count": 85,
      "outputs": []
    },
    {
      "cell_type": "code",
      "metadata": {
        "id": "mh3eEj4U5lT-",
        "colab_type": "code",
        "colab": {}
      },
      "source": [
        "%%capture\n",
        "!pip install transformers"
      ],
      "execution_count": 58,
      "outputs": []
    },
    {
      "cell_type": "code",
      "metadata": {
        "id": "fzI68OBw5ob3",
        "colab_type": "code",
        "colab": {}
      },
      "source": [
        "import sys, io, os, re, csv, json, string, time, datetime, random, unicodedata, itertools, collections, torch\n",
        "import numpy as np\n",
        "import pandas as pd\n",
        "import tensorflow as tf\n",
        "import seaborn as sns\n",
        "import matplotlib.pyplot as plt\n",
        "from transformers import BertTokenizer, BertForSequenceClassification, AdamW, BertConfig, get_linear_schedule_with_warmup\n",
        "from torch.utils.data import TensorDataset, DataLoader, RandomSampler, SequentialSampler, random_split\n",
        "from sklearn.model_selection import KFold, StratifiedKFold, train_test_split\n",
        "from sklearn.metrics import classification_report, confusion_matrix, f1_score, precision_score, recall_score, accuracy_score\n",
        "from sklearn.utils import resample\n",
        "\n",
        "% matplotlib inline\n",
        "random.seed(SEED)\n",
        "np.random.seed(SEED)\n",
        "torch.manual_seed(SEED)\n",
        "torch.cuda.manual_seed_all(SEED)\n",
        "pd.set_option('precision', 4)"
      ],
      "execution_count": 59,
      "outputs": []
    },
    {
      "cell_type": "code",
      "metadata": {
        "id": "xE8tbYWY5qtS",
        "colab_type": "code",
        "colab": {}
      },
      "source": [
        "models = {\n",
        "    \"english_base_cased\": ('bert-base-cased',False),\n",
        "    \"english_large_cased\": ('bert-large-cased',False),\n",
        "    \"english_base_uncased\": ('bert-base-uncased',True),\n",
        "    \"english_large_uncased\": ('bert-large-uncased',True),\n",
        "    \"multilingual\": ('bert-base-multilingual-cased',False),\n",
        "    \"finnish_cased\": ('TurkuNLP/bert-base-finnish-cased-v1',False),\n",
        "    \"finnish_uncased\": ('TurkuNLP/bert-base-finnish-uncased-v1',False),\n",
        "    \"dutch\": ('wietsedv/bert-base-dutch-cased',False),\n",
        "    \"chinese\": ('bert-base-chinese',False),\n",
        "    \"german\": ('bert-base-german-cased',False),\n",
        "    \"arabic\": ('asafaya/bert-base-arabic',False),\n",
        "    \"greek\": ('nlpaueb/bert-base-greek-uncased-v1',False),\n",
        "    \"turkish\": ('dbmdz/bert-base-turkish-cased',False)\n",
        "}\n",
        "\n",
        "datasets_olid = {\n",
        "    \"arabic\": \"https://github.com/mapama247/TFM/raw/master/ar20a.tsv\",\n",
        "    \"danish\":  \"https://github.com/mapama247/TFM/raw/master/da20a.tsv\",\n",
        "    \"english\": \"https://github.com/mapama247/TFM/raw/master/en19a.tsv\",\n",
        "    \"greek\":   \"https://github.com/mapama247/TFM/raw/master/gr20a.tsv\",\n",
        "    \"turkish\": \"https://github.com/mapama247/TFM/raw/master/tr20a.tsv\"\n",
        "}"
      ],
      "execution_count": 60,
      "outputs": []
    },
    {
      "cell_type": "code",
      "metadata": {
        "id": "uczQsMri5s25",
        "colab_type": "code",
        "colab": {
          "base_uri": "https://localhost:8080/",
          "height": 71
        },
        "outputId": "f7edad2f-1e5c-49c6-8351-4411724551e0"
      },
      "source": [
        "if tf.test.gpu_device_name() == '/device:GPU:0':\n",
        "    print('Found GPU at: {}'.format(tf.test.gpu_device_name()))\n",
        "else:\n",
        "    raise SystemError('GPU device not found')\n",
        "\n",
        "if torch.cuda.is_available():\n",
        "    device = torch.device(\"cuda\")\n",
        "    print('There are %d GPU(s) available.' % torch.cuda.device_count())\n",
        "    print('Using', torch.cuda.get_device_name(0), ':)')\n",
        "else:\n",
        "    print('No GPU available, using the CPU instead.')\n",
        "    device = torch.device(\"cpu\")"
      ],
      "execution_count": 61,
      "outputs": [
        {
          "output_type": "stream",
          "text": [
            "Found GPU at: /device:GPU:0\n",
            "There are 1 GPU(s) available.\n",
            "Using Tesla T4 :)\n"
          ],
          "name": "stdout"
        }
      ]
    },
    {
      "cell_type": "code",
      "metadata": {
        "id": "fYf-VuI_5u_y",
        "colab_type": "code",
        "colab": {}
      },
      "source": [
        "def prepare_data(sentences, labels, random_sampling=False):\n",
        "  input_ids=[]\n",
        "  attention_masks = []\n",
        "  for sentence in sentences:\n",
        "    encoded_dict = tokenizer.encode_plus(sentence, add_special_tokens=True, max_length=MAX_LEN, pad_to_max_length=True, return_attention_mask=True, return_tensors='pt')\n",
        "    input_ids.append(encoded_dict['input_ids'])\n",
        "    attention_masks.append(encoded_dict['attention_mask'])\n",
        "  \n",
        "  # Convert numpy arrays to pytorch tensors\n",
        "  inputs = torch.cat(input_ids, dim=0)\n",
        "  masks =  torch.cat(attention_masks, dim=0)\n",
        "  labels = torch.tensor(labels)\n",
        "\n",
        "  # Create the DataLoader for the given set (iterator to save memory)\n",
        "  data = TensorDataset(inputs, masks, labels)\n",
        "  if random_sampling: # train data\n",
        "      sampler = RandomSampler(data)\n",
        "  else: # dev and test data\n",
        "      sampler = SequentialSampler(data)\n",
        "  dataloader = DataLoader(data, sampler=sampler, batch_size=BATCH_SIZE)\n",
        "  \n",
        "  return dataloader"
      ],
      "execution_count": 62,
      "outputs": []
    },
    {
      "cell_type": "code",
      "metadata": {
        "id": "cSde3yBM5xQq",
        "colab_type": "code",
        "colab": {}
      },
      "source": [
        "def train(model, optimizer, scheduler, train_dataloader, dev_dataloader, epochs, verbose=True):\n",
        "  total_t0 = time.time() # Measure the total training time for the whole run.\n",
        "\n",
        "  training_stats = [] # training loss, validation loss, validation accuracy and timings.\n",
        "\n",
        "  for epoch_i in range(0, epochs):\n",
        "      if verbose: print('\\n======== Epoch {:} / {:} ========'.format(epoch_i+1, epochs))\n",
        "      else: print(\"Epoch\",epoch_i+1,\"of\",epochs,\"...\")\n",
        "      \n",
        "      t0 = time.time()     # Measure how long the training epoch takes.\n",
        "      total_train_loss = 0 # Reset the total loss for this epoch.\n",
        "      model.train()        # Put the model into training mode.\n",
        "\n",
        "      # For each batch of training data...\n",
        "      for step, batch in enumerate(train_dataloader):\n",
        "          \n",
        "          if verbose==True and step%40==0 and not step==0: # Progress update every 40 batches.\n",
        "              elapsed = format_time(time.time()-t0) # Calculate elapsed time in minutes.\n",
        "              print('  Batch {:>5,}  of  {:>5,}.    Elapsed: {:}.'.format(step, len(train_dataloader), elapsed))\n",
        "\n",
        "          # Unpack this training batch from our dataloader and copy each tensor to the GPU using the to() method.\n",
        "          b_input_ids = batch[0].to(device)\n",
        "          b_input_mask = batch[1].to(device)\n",
        "          b_labels = batch[2].to(device)\n",
        "\n",
        "          # Always clear any previously calculated gradients before performing a backward pass.\n",
        "          model.zero_grad()\n",
        "\n",
        "          # Perform a forward pass (evaluate the model on this training batch).\n",
        "          loss, logits = model(b_input_ids, token_type_ids=None, attention_mask=b_input_mask, labels=b_labels)\n",
        "\n",
        "          # Accumulate the training loss over all of the batches so that we can calculate the average loss at the end.\n",
        "          total_train_loss += loss.item()\n",
        "\n",
        "          # Perform a backward pass to calculate the gradients.\n",
        "          loss.backward()\n",
        "\n",
        "          # Clip the norm of the gradients to 1.0 in order to prevent the \"exploding gradients\" problem.\n",
        "          torch.nn.utils.clip_grad_norm_(model.parameters(), 1.0)\n",
        "\n",
        "          optimizer.step() # Update parameters and take a step using the computed gradient.\n",
        "          scheduler.step() # Update the learning rate.\n",
        "\n",
        "      avg_train_loss = total_train_loss / len(train_dataloader) # Calculate the average loss over the training data.\n",
        "      if verbose: print(\"\\n  Average training loss: {0:.2f}\".format(avg_train_loss))\n",
        "      \n",
        "      # Measure how long this epoch took.\n",
        "      training_time = format_time(time.time() - t0)\n",
        "      if verbose: print(\"  Training epcoh took: {:}\".format(training_time))\n",
        "\n",
        "      ########## VALIDATION ##########\n",
        "      t0 = time.time()\n",
        "      model.eval() # Put the model in evaluation mode--the dropout layers behave differently during evaluation.\n",
        "      eval_loss, eval_accuracy, nb_eval_examples = 0, 0, 0      # Tracking variables \n",
        "\n",
        "      # Tracking variables \n",
        "      total_eval_accuracy, total_eval_loss, nb_eval_steps = 0, 0, 0\n",
        "\n",
        "      # Evaluate data for one epoch\n",
        "      for batch in dev_dataloader:\n",
        "          # Unpack the inputs from the dataloader object after adding batch to GPU\n",
        "          b_input_ids = batch[0].to(device)\n",
        "          b_input_mask = batch[1].to(device)\n",
        "          b_labels = batch[2].to(device)\n",
        "          \n",
        "          # Telling the model not to compute or store gradients, saving memory and speeding up validation\n",
        "          with torch.no_grad():        \n",
        "              # Forward pass, calculate logit predictions (output values prior to applying an activation function)\n",
        "              (loss, logits) = model(b_input_ids, token_type_ids=None, attention_mask=b_input_mask, labels=b_labels)\n",
        "\n",
        "          logits = logits.detach().cpu().numpy() # Move logits to CPU\n",
        "          label_ids = b_labels.to('cpu').numpy() # Move labels to CPU\n",
        "\n",
        "          total_eval_loss += loss.item() # Accumulate the validation loss.\n",
        "          total_eval_accuracy += flat_accuracy(logits, label_ids) # Calculate the accuracy for this batch of test sentences, and accumulate it over all batches.\n",
        "\n",
        "          nb_eval_steps += 1 # Track the number of batches\n",
        "\n",
        "      # Report the final accuracy for this validation run.\n",
        "      avg_val_accuracy = total_eval_accuracy / len(dev_dataloader)\n",
        "      if verbose: print(\"  Accuracy: {0:.2f}\".format(avg_val_accuracy))\n",
        "\n",
        "      # Report the average loss over all of the batches.\n",
        "      avg_val_loss = total_eval_loss / len(dev_dataloader)\n",
        "      if verbose: print(\"  Validation Loss: {0:.2f}\".format(avg_val_loss))\n",
        "\n",
        "      # Measure how long the validation run took.\n",
        "      validation_time = format_time(time.time() - t0)\n",
        "      if verbose: print(\"  Validation took: {:}\".format(validation_time))  \n",
        "\n",
        "      # Record all statistics from this epoch.\n",
        "      training_stats.append(\n",
        "          {\n",
        "              'epoch': epoch_i + 1,\n",
        "              'Train Loss': avg_train_loss,\n",
        "              'Valid Loss': avg_val_loss,\n",
        "              'Valid Acc': avg_val_accuracy,\n",
        "              'Train Time': training_time,\n",
        "              'Valid Time': validation_time\n",
        "          }\n",
        "      )\n",
        "\n",
        "  print(\"\\nTraining complete!\")\n",
        "  print(\"Total training took {:} (h:mm:ss)\".format(format_time(time.time()-total_t0)))\n",
        "\n",
        "  df_stats = pd.DataFrame(data=training_stats)\n",
        "  df_stats = df_stats.set_index('epoch')\n",
        "  return df_stats"
      ],
      "execution_count": 63,
      "outputs": []
    },
    {
      "cell_type": "code",
      "metadata": {
        "id": "M-EYsCgq50sR",
        "colab_type": "code",
        "colab": {}
      },
      "source": [
        "def predict(model, dataloader):\n",
        "  print('Predicting labels for test sentences...')\n",
        "\n",
        "  model.eval() # Put model in evaluation mode\n",
        "\n",
        "  predictions = [] # Tracking variable\n",
        "  true_labels = [] # Tracking variable\n",
        "\n",
        "  for batch in dataloader:\n",
        "    batch = tuple(t.to(device) for t in batch) # Add batch to GPU\n",
        "    \n",
        "    b_input_ids, b_input_mask, b_labels = batch # Unpack the inputs from the dataloader\n",
        "    \n",
        "    with torch.no_grad(): # do not compute or store gradients to save memory and speed up prediction\n",
        "      outputs = model(b_input_ids, token_type_ids=None, attention_mask=b_input_mask) # Forward pass, calculate logit predictions\n",
        "    \n",
        "    logits = outputs[0] # retrieve the model outputs prior to activation\n",
        "    logits = logits.detach().cpu().numpy() # Move logits to CPU\n",
        "    label_ids = b_labels.to('cpu').numpy() # Move labels to CPU\n",
        "    \n",
        "    predictions.append(logits)    # Store predictions\n",
        "    true_labels.append(label_ids) # Store true labels\n",
        "\n",
        "  print('COMPLETED.\\n')\n",
        "  return predictions, true_labels"
      ],
      "execution_count": 64,
      "outputs": []
    },
    {
      "cell_type": "code",
      "metadata": {
        "id": "raNBC3DN522k",
        "colab_type": "code",
        "colab": {}
      },
      "source": [
        "def evaluate(predictions, true_labels, avg='macro', verbose=True):\n",
        "  avgs = ['micro', 'macro', 'weighted', 'samples']\n",
        "  if avg not in avgs:\n",
        "    raise ValueError(\"Invalid average type (avg). Expected one of: %s\" % avgs)\n",
        "\n",
        "  # Combine the predictions for each batch into a single list.\n",
        "  flat_predictions = [item for sublist in predictions for item in sublist]\n",
        "  flat_predictions = np.argmax(flat_predictions, axis=1).flatten()\n",
        "\n",
        "  # Combine the correct labels for each batch into a single list.\n",
        "  flat_true_labels = [item for sublist in true_labels for item in sublist]\n",
        "\n",
        "  # Compute the results.\n",
        "  precision = precision_score(flat_true_labels, flat_predictions, average=avg)\n",
        "  recall    = recall_score(flat_true_labels, flat_predictions, average=avg)\n",
        "  f1        = f1_score(flat_true_labels, flat_predictions, average=avg)\n",
        "  acc       = accuracy_score(flat_true_labels,flat_predictions)\n",
        "\n",
        "  # Report the results.\n",
        "  if verbose:\n",
        "    print('Accuracy:        %.4f' % acc)\n",
        "    print(avg+' Precision: %.4f' % f1)\n",
        "    print(avg+' Recall:    %.4f' % f1)\n",
        "    print(avg+' F1 score:  %.4f' % f1, \"\\n\")\n",
        "    print(confusion_matrix(flat_true_labels,flat_predictions))\n",
        "    #print(classification_report(flat_true_labels, flat_predictions, digits=2, zero_division='warn'))\n",
        "\n",
        "  return f1, acc"
      ],
      "execution_count": 65,
      "outputs": []
    },
    {
      "cell_type": "code",
      "metadata": {
        "id": "nyFSZLgf549R",
        "colab_type": "code",
        "colab": {}
      },
      "source": [
        "\n",
        "def plot_lengths_distribution(lengths, title=\"Length distribution of tokenized sentences\"):\n",
        "  sns.set(style=\"darkgrid\")\n",
        "  sns.set(font_scale=1.5)\n",
        "  plt.rcParams[\"figure.figsize\"]=(10,5)\n",
        "  lengths = [min(length,MAX_LEN) for length in lengths]\n",
        "  ax = sns.distplot(lengths,kde=False,rug=False, hist_kws={\"rwidth\":5,'edgecolor':'black', 'alpha':1.0}) \n",
        "  plt.title(\"Sequence length distribution\")\n",
        "  plt.xlabel(\"Sequence Length\")\n",
        "  plt.ylabel(\"Counts\")\n",
        "\n",
        "  num_truncated = lengths.count(MAX_LEN)\n",
        "  num_sentences = len(lengths)\n",
        "  print(\"{:.1%} of the training examples ({:,} of them) have more than {:,} tokens\".format(float(num_truncated)/float(num_sentences),num_truncated,MAX_LEN))\n",
        "\n",
        "def plot_value_counts(df, title=\"Label distribution\"):\n",
        "  emotions = ['TRUST','ANGRY','ANTICIP.','DISGUST','FEAR','JOY','SADNESS','SURPRISE']\n",
        "  df2 = df.replace([0,1,2,3,4,5,6,7], emotions)\n",
        "  df2.label.value_counts(normalize=False).sort_index().plot(kind='bar')\n",
        "  plt.xticks(rotation=25)\n",
        "  plt.title(title)\n",
        "  plt.show()\n",
        "\n",
        "def plot_loss(df_stats, plot_train=True, plot_valid=True):\n",
        "  sns.set(style='darkgrid') # Use plot styling from seaborn.\n",
        "  sns.set(font_scale=1.5) # Increase the plot size.\n",
        "  plt.rcParams[\"figure.figsize\"] = (12,6) # Increase the font size.\n",
        "  if plot_train: plt.plot(df_stats['Train Loss'], 'b-o', label=\"Training\")\n",
        "  if plot_valid: plt.plot(df_stats['Valid Loss'], 'g-o', label=\"Validation\")\n",
        "  plt.title(\"Training & Validation Loss\")\n",
        "  plt.xlabel(\"Epoch\")\n",
        "  plt.ylabel(\"Loss\")\n",
        "  plt.legend()\n",
        "  plt.xticks([1, 2, 3, 4])\n",
        "  plt.show()"
      ],
      "execution_count": 66,
      "outputs": []
    },
    {
      "cell_type": "code",
      "metadata": {
        "id": "Y7tGljE558AV",
        "colab_type": "code",
        "colab": {}
      },
      "source": [
        "\n",
        "def flat_accuracy(preds, labels):\n",
        "    \"\"\"Function to calculate the accuracy of our predictions vs labels\"\"\"\n",
        "    pred_flat = np.argmax(preds, axis=1).flatten()\n",
        "    labels_flat = labels.flatten()\n",
        "    return np.sum(pred_flat == labels_flat) / len(labels_flat)\n",
        "\n",
        "def format_time(elapsed):\n",
        "    \"\"\"Function for formatting elapsed times: Takes a time in seconds and returns a string hh:mm:ss\"\"\"\n",
        "    elapsed_rounded = int(round((elapsed))) # Round to the nearest second.\n",
        "    return str(datetime.timedelta(seconds=elapsed_rounded)) # Format as hh:mm:ss\n",
        "\n",
        "def print_model_params(my_model):\n",
        "  \"\"\"Function to print all the model's parameters as a list of tuples: (name,dimensions)\"\"\"\n",
        "  params = list(my_model.named_parameters())\n",
        "  print('The BERT model has {:} different named parameters.\\n'.format(len(params)))\n",
        "  print('==== Embedding Layer ====\\n')\n",
        "  for p in params[0:5]:\n",
        "    print(\"{:<55} {:>12}\".format(p[0], str(tuple(p[1].size()))))\n",
        "  print('\\n==== First Transformer ====\\n')\n",
        "  for p in params[5:21]:\n",
        "    print(\"{:<55} {:>12}\".format(p[0], str(tuple(p[1].size()))))\n",
        "  print('\\n==== Output Layer ====\\n')\n",
        "  for p in params[-4:]:\n",
        "    print(\"{:<55} {:>12}\".format(p[0], str(tuple(p[1].size()))))"
      ],
      "execution_count": 67,
      "outputs": []
    },
    {
      "cell_type": "code",
      "metadata": {
        "id": "26TrJF805-Fu",
        "colab_type": "code",
        "colab": {
          "base_uri": "https://localhost:8080/",
          "height": 418
        },
        "outputId": "245b98e4-c6e9-4712-8908-391a053445ed"
      },
      "source": [
        "df_train = pd.read_csv(\"NERadx.train\", delimiter='\\t', header=None, names=['label','sentence']).sample(frac=1, random_state=SEED)\n",
        "df_dev = pd.read_csv(\"NERadx.dev\"  , delimiter='\\t', header=None, names=['label','sentence']).sample(frac=1, random_state=SEED)\n",
        "df_test  = pd.read_csv(\"NERadx.test\" , delimiter='\\t', header=None, names=['label','sentence']).sample(frac=1, random_state=SEED)\n",
        "\n",
        "df_train[\"label\"].replace({8: 0}, inplace=True)\n",
        "df_dev[\"label\"].replace({8: 0}, inplace=True)\n",
        "df_test[\"label\"].replace({8: 0}, inplace=True)\n",
        "\n",
        "df_data = pd.concat([df_train, df_dev, df_test]).sample(frac=1, random_state=SEED)\n",
        "NUM_CLASSES = len(df_data.groupby('label'))\n",
        "\n",
        "if CHANGE_SPLIT:\n",
        "  if PCTG_TRAIN+PCTG_DEV+PCTG_TEST!=1:\n",
        "    raise SystemError('Check train-dev-test percentages! The sum of them should be 1.')\n",
        "  else:\n",
        "    print('The entire dataset was split using',PCTG_TRAIN,'for training,',PCTG_DEV,'for validation and',PCTG_TEST,'for testing.\\n')\n",
        "    df_train, df_dev, df_test = np.split(df_data, [int(PCTG_TRAIN*len(df_data)), int((1-PCTG_TEST)*len(df_data))])\n",
        "else:\n",
        "  print('The original train-dev-test sets are used.\\n')\n",
        "\n",
        "X_train = df_train.sentence.values\n",
        "y_train = df_train.label.values\n",
        "X_dev = df_dev.sentence.values\n",
        "y_dev = df_dev.label.values\n",
        "X_test = df_test.sentence.values\n",
        "y_test = df_test.label.values\n",
        "\n",
        "print('Number of sentences train set: {:,}'.format(len(X_train)))\n",
        "print('Number of sentences dev set:   {:,}'.format(len(X_dev)))\n",
        "print('Number of sentences test set:  {:,}'.format(len(X_test)))\n",
        "\n",
        "plot_value_counts(df_data, title=\"Value counts labels full dataset\")\n",
        "#plot_value_counts(df_train, title=\"Value counts labels train set\")\n",
        "#plot_value_counts(df_dev, title=\"Value counts labels dev set\")\n",
        "#plot_value_counts(df_test, title=\"Value counts labels test set\")"
      ],
      "execution_count": 68,
      "outputs": [
        {
          "output_type": "stream",
          "text": [
            "The entire dataset was split using 0.75 for training, 0.15 for validation and 0.1 for testing.\n",
            "\n",
            "Number of sentences train set: 18,123\n",
            "Number of sentences dev set:   3,624\n",
            "Number of sentences test set:  2,417\n"
          ],
          "name": "stdout"
        },
        {
          "output_type": "display_data",
          "data": {
            "image/png": "[encoded data removed]",
            "text/plain": [
              "<Figure size 432x288 with 1 Axes>"
            ]
          },
          "metadata": {
            "tags": [],
            "needs_background": "light"
          }
        }
      ]
    },
    {
      "cell_type": "code",
      "metadata": {
        "id": "AleLz6A36Ajl",
        "colab_type": "code",
        "colab": {
          "base_uri": "https://localhost:8080/",
          "height": 647
        },
        "outputId": "71f228c2-0af1-4133-d5dc-d6606a0e81cb"
      },
      "source": [
        "\n",
        "model = BertForSequenceClassification.from_pretrained(pretrained_model_name_or_path='bert-base-uncased', num_labels=NUM_CLASSES, output_attentions=False, output_hidden_states=False)\n",
        "model.cuda() # Tell pytorch to run this model on the GPU.\n",
        "\n",
        "print_model_params(model)"
      ],
      "execution_count": 69,
      "outputs": [
        {
          "output_type": "stream",
          "text": [
            "The BERT model has 201 different named parameters.\n",
            "\n",
            "==== Embedding Layer ====\n",
            "\n",
            "bert.embeddings.word_embeddings.weight                  (30522, 768)\n",
            "bert.embeddings.position_embeddings.weight                (512, 768)\n",
            "bert.embeddings.token_type_embeddings.weight                (2, 768)\n",
            "bert.embeddings.LayerNorm.weight                              (768,)\n",
            "bert.embeddings.LayerNorm.bias                                (768,)\n",
            "\n",
            "==== First Transformer ====\n",
            "\n",
            "bert.encoder.layer.0.attention.self.query.weight          (768, 768)\n",
            "bert.encoder.layer.0.attention.self.query.bias                (768,)\n",
            "bert.encoder.layer.0.attention.self.key.weight            (768, 768)\n",
            "bert.encoder.layer.0.attention.self.key.bias                  (768,)\n",
            "bert.encoder.layer.0.attention.self.value.weight          (768, 768)\n",
            "bert.encoder.layer.0.attention.self.value.bias                (768,)\n",
            "bert.encoder.layer.0.attention.output.dense.weight        (768, 768)\n",
            "bert.encoder.layer.0.attention.output.dense.bias              (768,)\n",
            "bert.encoder.layer.0.attention.output.LayerNorm.weight        (768,)\n",
            "bert.encoder.layer.0.attention.output.LayerNorm.bias          (768,)\n",
            "bert.encoder.layer.0.intermediate.dense.weight           (3072, 768)\n",
            "bert.encoder.layer.0.intermediate.dense.bias                 (3072,)\n",
            "bert.encoder.layer.0.output.dense.weight                 (768, 3072)\n",
            "bert.encoder.layer.0.output.dense.bias                        (768,)\n",
            "bert.encoder.layer.0.output.LayerNorm.weight                  (768,)\n",
            "bert.encoder.layer.0.output.LayerNorm.bias                    (768,)\n",
            "\n",
            "==== Output Layer ====\n",
            "\n",
            "bert.pooler.dense.weight                                  (768, 768)\n",
            "bert.pooler.dense.bias                                        (768,)\n",
            "classifier.weight                                           (8, 768)\n",
            "classifier.bias                                                 (8,)\n"
          ],
          "name": "stdout"
        }
      ]
    },
    {
      "cell_type": "code",
      "metadata": {
        "id": "rmWzQ7HV6CjG",
        "colab_type": "code",
        "colab": {
          "base_uri": "https://localhost:8080/",
          "height": 89
        },
        "outputId": "85592090-ba38-439e-9222-be738b236015"
      },
      "source": [
        "bert_model = models[BERT_MODEL][0]\n",
        "lowercase = models[BERT_MODEL][1]\n",
        "\n",
        "tokenizer = BertTokenizer.from_pretrained(bert_model, do_lower_case=lowercase)\n",
        "print('Text will be split into tokens using the', bert_model,'built-in tokenizer.\\n')\n",
        "\n",
        "print(\"Hello I am a MONKEY \\U0001F648\")\n",
        "print(tokenizer.tokenize(\"Hello I am a monkey \\U0001F648\"))"
      ],
      "execution_count": 70,
      "outputs": [
        {
          "output_type": "stream",
          "text": [
            "Text will be split into tokens using the bert-base-uncased built-in tokenizer.\n",
            "\n",
            "Hello I am a MONKEY 🙈\n",
            "['hello', 'i', 'am', 'a', 'monkey', '[UNK]']\n"
          ],
          "name": "stdout"
        }
      ]
    },
    {
      "cell_type": "code",
      "metadata": {
        "id": "_5Sj7T1k6EkD",
        "colab_type": "code",
        "colab": {
          "base_uri": "https://localhost:8080/",
          "height": 408
        },
        "outputId": "234defd3-48e8-4a3d-9be2-7a5a487ae939"
      },
      "source": [
        "lengths = []\n",
        "for sent in X_train:\n",
        "  input_ids = tokenizer.encode(sent, add_special_tokens=True)\n",
        "  l = min(MAX_LEN, len(input_ids))\n",
        "  lengths.append(l)\n",
        "\n",
        "plot_lengths_distribution(lengths, title=\"Length distribution of tokenized train sentences\")\n",
        "print('Increase MAX_LEN if too many truncated sentences, decrease it if too much padding.')"
      ],
      "execution_count": 71,
      "outputs": [
        {
          "output_type": "stream",
          "text": [
            "0.1% of the training examples (18 of them) have more than 48 tokens\n",
            "Increase MAX_LEN if too many truncated sentences, decrease it if too much padding.\n"
          ],
          "name": "stdout"
        },
        {
          "output_type": "display_data",
          "data": {
            "image/png": "[encoded data removed]",
            "text/plain": [
              "<Figure size 720x360 with 1 Axes>"
            ]
          },
          "metadata": {
            "tags": []
          }
        }
      ]
    },
    {
      "cell_type": "code",
      "metadata": {
        "id": "9os6CdRA6Gjs",
        "colab_type": "code",
        "colab": {}
      },
      "source": [
        "train_dataloader      = prepare_data(X_train, y_train, True)\n",
        "dev_dataloader        = prepare_data(X_dev, y_dev, False)\n",
        "prediction_dataloader = prepare_data(X_test, y_test, False)"
      ],
      "execution_count": 72,
      "outputs": []
    },
    {
      "cell_type": "code",
      "metadata": {
        "id": "BKCnbnxu6JjU",
        "colab_type": "code",
        "colab": {
          "base_uri": "https://localhost:8080/",
          "height": 719
        },
        "outputId": "3093bae1-7c2d-4bec-9a33-f90e78b83275"
      },
      "source": [
        "\n",
        "adam         = AdamW(model.parameters(), lr=LEARN_RATE, eps=EPSILON)\n",
        "total_steps  = len(train_dataloader) * EPOCHS # Total number of training steps is nb_batches times nb_epochs.\n",
        "linear_sch   = get_linear_schedule_with_warmup(adam, num_warmup_steps=nb_warmup_steps, num_training_steps=total_steps)\n",
        "\n",
        "training_stats = train(model=model, optimizer=adam, train_dataloader=train_dataloader, dev_dataloader=dev_dataloader, \n",
        "                       epochs=EPOCHS, verbose=True, scheduler=linear_sch)"
      ],
      "execution_count": 81,
      "outputs": [
        {
          "output_type": "stream",
          "text": [
            "\n",
            "======== Epoch 1 / 3 ========\n",
            "  Batch    40  of    189.    Elapsed: 0:00:31.\n",
            "  Batch    80  of    189.    Elapsed: 0:01:01.\n",
            "  Batch   120  of    189.    Elapsed: 0:01:31.\n",
            "  Batch   160  of    189.    Elapsed: 0:02:01.\n",
            "\n",
            "  Average training loss: 1.76\n",
            "  Training epcoh took: 0:02:23\n",
            "  Accuracy: 0.46\n",
            "  Validation Loss: 1.50\n",
            "  Validation took: 0:00:10\n",
            "\n",
            "======== Epoch 2 / 3 ========\n",
            "  Batch    40  of    189.    Elapsed: 0:00:30.\n",
            "  Batch    80  of    189.    Elapsed: 0:01:00.\n",
            "  Batch   120  of    189.    Elapsed: 0:01:30.\n",
            "  Batch   160  of    189.    Elapsed: 0:02:00.\n",
            "\n",
            "  Average training loss: 1.43\n",
            "  Training epcoh took: 0:02:21\n",
            "  Accuracy: 0.47\n",
            "  Validation Loss: 1.45\n",
            "  Validation took: 0:00:10\n",
            "\n",
            "======== Epoch 3 / 3 ========\n",
            "  Batch    40  of    189.    Elapsed: 0:00:30.\n",
            "  Batch    80  of    189.    Elapsed: 0:01:00.\n",
            "  Batch   120  of    189.    Elapsed: 0:01:30.\n",
            "  Batch   160  of    189.    Elapsed: 0:02:00.\n",
            "\n",
            "  Average training loss: 1.32\n",
            "  Training epcoh took: 0:02:21\n",
            "  Accuracy: 0.48\n",
            "  Validation Loss: 1.45\n",
            "  Validation took: 0:00:10\n",
            "\n",
            "Training complete!\n",
            "Total training took 0:07:36 (h:mm:ss)\n"
          ],
          "name": "stdout"
        }
      ]
    },
    {
      "cell_type": "code",
      "metadata": {
        "id": "irGvNReb6LhO",
        "colab_type": "code",
        "colab": {
          "base_uri": "https://localhost:8080/",
          "height": 583
        },
        "outputId": "bb14bb31-d083-4c4a-da14-33dd89fe122e"
      },
      "source": [
        "plot_loss(training_stats)\n",
        "training_stats"
      ],
      "execution_count": 82,
      "outputs": [
        {
          "output_type": "display_data",
          "data": {
            "image/png": "[encoded data removed]",
            "text/plain": [
              "<Figure size 864x432 with 1 Axes>"
            ]
          },
          "metadata": {
            "tags": []
          }
        },
        {
          "output_type": "execute_result",
          "data": {
            "text/html": [
              "<div>\n",
              "<style scoped>\n",
              "    .dataframe tbody tr th:only-of-type {\n",
              "        vertical-align: middle;\n",
              "    }\n",
              "\n",
              "    .dataframe tbody tr th {\n",
              "        vertical-align: top;\n",
              "    }\n",
              "\n",
              "    .dataframe thead th {\n",
              "        text-align: right;\n",
              "    }\n",
              "</style>\n",
              "<table border=\"1\" class=\"dataframe\">\n",
              "  <thead>\n",
              "    <tr style=\"text-align: right;\">\n",
              "      <th></th>\n",
              "      <th>Train Loss</th>\n",
              "      <th>Valid Loss</th>\n",
              "      <th>Valid Acc</th>\n",
              "      <th>Train Time</th>\n",
              "      <th>Valid Time</th>\n",
              "    </tr>\n",
              "    <tr>\n",
              "      <th>epoch</th>\n",
              "      <th></th>\n",
              "      <th></th>\n",
              "      <th></th>\n",
              "      <th></th>\n",
              "      <th></th>\n",
              "    </tr>\n",
              "  </thead>\n",
              "  <tbody>\n",
              "    <tr>\n",
              "      <th>1</th>\n",
              "      <td>1.7614</td>\n",
              "      <td>1.5022</td>\n",
              "      <td>0.4551</td>\n",
              "      <td>0:02:23</td>\n",
              "      <td>0:00:10</td>\n",
              "    </tr>\n",
              "    <tr>\n",
              "      <th>2</th>\n",
              "      <td>1.4347</td>\n",
              "      <td>1.4477</td>\n",
              "      <td>0.4691</td>\n",
              "      <td>0:02:21</td>\n",
              "      <td>0:00:10</td>\n",
              "    </tr>\n",
              "    <tr>\n",
              "      <th>3</th>\n",
              "      <td>1.3220</td>\n",
              "      <td>1.4460</td>\n",
              "      <td>0.4788</td>\n",
              "      <td>0:02:21</td>\n",
              "      <td>0:00:10</td>\n",
              "    </tr>\n",
              "  </tbody>\n",
              "</table>\n",
              "</div>"
            ],
            "text/plain": [
              "       Train Loss  Valid Loss  Valid Acc Train Time Valid Time\n",
              "epoch                                                         \n",
              "1          1.7614      1.5022     0.4551    0:02:23    0:00:10\n",
              "2          1.4347      1.4477     0.4691    0:02:21    0:00:10\n",
              "3          1.3220      1.4460     0.4788    0:02:21    0:00:10"
            ]
          },
          "metadata": {
            "tags": []
          },
          "execution_count": 82
        }
      ]
    },
    {
      "cell_type": "code",
      "metadata": {
        "id": "Lvw80I6P6O95",
        "colab_type": "code",
        "colab": {}
      },
      "source": [
        ""
      ],
      "execution_count": 82,
      "outputs": []
    },
    {
      "cell_type": "code",
      "metadata": {
        "id": "CsxT5WHt6RIR",
        "colab_type": "code",
        "colab": {
          "base_uri": "https://localhost:8080/",
          "height": 1000
        },
        "outputId": "dc874df1-0e28-4968-b229-69f4a054a508"
      },
      "source": [
        "# if 5 folds:  20% for testing (1 fold), 70.00% for training and 10.00% for validation\n",
        "# if 10 folds: 10% for testing (1 fold), 78.75% for training and 11.25% for validation\n",
        "\n",
        "if CROSS_VALIDATION:\n",
        "  kf = KFold(n_splits=NUM_FOLDS, random_state=SEED, shuffle=True)\n",
        "\n",
        "  mf1s = []\n",
        "  accs = []\n",
        "  fold_num = 1\n",
        "  for train_index, test_index in kf.split(df_data):\n",
        "      print(\"##### Fold number:\", fold_num, \"#####\")\n",
        "      fold_num += 1\n",
        "      train_df = df_data.iloc[train_index]\n",
        "      test_df  = df_data.iloc[test_index]\n",
        "\n",
        "      train_df, dev_df = train_test_split(train_df, test_size=0.125) # change percentage (hyperparams?)\n",
        "\n",
        "      X_train, y_train = train_df.sentence.values, train_df.label.values\n",
        "      X_dev, y_dev = dev_df.sentence.values, dev_df.label.values\n",
        "      X_test, y_test = test_df.sentence.values, test_df.label.values\n",
        "      \n",
        "      train_dataloader      = prepare_data(X_train, y_train, 1)\n",
        "      dev_dataloader        = prepare_data(X_dev, y_dev, 0)\n",
        "      prediction_dataloader = prepare_data(X_test, y_test, 0)\n",
        "\n",
        "      training_stats = train(model, optimizer=adam, train_dataloader=train_dataloader, dev_dataloader=dev_dataloader, epochs=EPOCHS, verbose=False, scheduler=linear_sch)\n",
        "      predictions, true_labels = predict(model, prediction_dataloader)\n",
        "      mf1, acc = evaluate(predictions, true_labels, verbose=False)\n",
        "      mf1s.append(mf1)\n",
        "      accs.append(acc)\n",
        "  \n",
        "  print(\"#####################################################################\")\n",
        "  print(\"PARAMS: epochs:\",EPOCHS,\", lr_rate:\",LEARN_RATE,\"epsilon:\",EPSILON,\"...\")\n",
        "  print(\"#####################################################################\")\n",
        "  print(\"F1(CV):\",mf1s)\n",
        "  print(f\"Mean-folds-F1: {sum(mf1s)/len(mf1s)}\")\n",
        "  print(\"Acc(CV):\",accs)\n",
        "  print(f\"Mean-folds-Acc: {sum(accs)/len(accs)}\")"
      ],
      "execution_count": 88,
      "outputs": [
        {
          "output_type": "stream",
          "text": [
            "##### Fold number: 1 #####\n",
            "Epoch 1 of 3 ...\n",
            "Epoch 2 of 3 ...\n",
            "Epoch 3 of 3 ...\n",
            "\n",
            "Training complete!\n",
            "Total training took 0:06:57 (h:mm:ss)\n",
            "Predicting labels for test sentences...\n",
            "COMPLETED.\n",
            "\n",
            "##### Fold number: 2 #####\n",
            "Epoch 1 of 3 ...\n",
            "Epoch 2 of 3 ...\n",
            "Epoch 3 of 3 ...\n",
            "\n",
            "Training complete!\n",
            "Total training took 0:06:56 (h:mm:ss)\n",
            "Predicting labels for test sentences...\n",
            "COMPLETED.\n",
            "\n",
            "##### Fold number: 3 #####\n",
            "Epoch 1 of 3 ...\n",
            "Epoch 2 of 3 ...\n",
            "Epoch 3 of 3 ...\n",
            "\n",
            "Training complete!\n",
            "Total training took 0:06:56 (h:mm:ss)\n",
            "Predicting labels for test sentences...\n",
            "COMPLETED.\n",
            "\n",
            "##### Fold number: 4 #####\n",
            "Epoch 1 of 3 ...\n",
            "Epoch 2 of 3 ...\n",
            "Epoch 3 of 3 ...\n",
            "\n",
            "Training complete!\n",
            "Total training took 0:06:55 (h:mm:ss)\n",
            "Predicting labels for test sentences...\n",
            "COMPLETED.\n",
            "\n",
            "##### Fold number: 5 #####\n",
            "Epoch 1 of 3 ...\n",
            "Epoch 2 of 3 ...\n",
            "Epoch 3 of 3 ...\n",
            "\n",
            "Training complete!\n",
            "Total training took 0:06:55 (h:mm:ss)\n",
            "Predicting labels for test sentences...\n",
            "COMPLETED.\n",
            "\n",
            "#####################################################################\n",
            "PARAMS: epochs: 3 , lr_rate: 2e-05 epsilon: 1e-08 ...\n",
            "#####################################################################\n",
            "F1(CV): [0.5476654014065779, 0.5383039432871108, 0.5317713649340343, 0.5359667374362341, 0.5277145657370729]\n",
            "Mean-folds-F1: 0.536284402560206\n",
            "Acc(CV): [0.5545210014483758, 0.5443823711980137, 0.5410717980550382, 0.5452100144837575, 0.535182119205298]\n",
            "Mean-folds-Acc: 0.5440734608780966\n"
          ],
          "name": "stdout"
        }
      ]
    },
    {
      "cell_type": "code",
      "metadata": {
        "id": "9RsHZhTt6Un-",
        "colab_type": "code",
        "colab": {}
      },
      "source": [
        ""
      ],
      "execution_count": null,
      "outputs": []
    }
  ]
}